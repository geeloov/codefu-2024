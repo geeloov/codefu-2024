{
 "cells": [
  {
   "cell_type": "code",
   "execution_count": 1,
   "metadata": {},
   "outputs": [],
   "source": [
    "import pandas as pd"
   ]
  },
  {
   "cell_type": "code",
   "execution_count": 2,
   "metadata": {},
   "outputs": [],
   "source": [
    "pm10_data_df = pd.read_csv('Data/HistoricalPM10.csv')\n",
    "pm25_data_df = pd.read_csv('Data/HistoricalPM25.csv')\n",
    "no2_data_df = pd.read_csv('Data/HistoricalNO2.csv')"
   ]
  },
  {
   "cell_type": "code",
   "execution_count": 7,
   "metadata": {},
   "outputs": [],
   "source": [
    "def preprocess_pollution_data(df, sensor_column='sensor_id'):\n",
    "    df['stamp'] = pd.to_datetime(df['stamp'])\n",
    "\n",
    "    df['year'] = df['stamp'].dt.year\n",
    "    df['month'] = df['stamp'].dt.month\n",
    "    df['day'] = df['stamp'].dt.day\n",
    "    df['hour'] = df['stamp'].dt.hour\n",
    "\n",
    "    df['date'] = df['stamp'].dt.date\n",
    "\n",
    "    df.set_index('stamp', inplace=True)\n",
    "\n",
    "    df_cleaned = df.groupby([df['date'], sensor_column, 'hour']).first()\n",
    "\n",
    "    df_cleaned.reset_index(inplace=True)\n",
    "\n",
    "    return df_cleaned"
   ]
  },
  {
   "cell_type": "code",
   "execution_count": 8,
   "metadata": {},
   "outputs": [],
   "source": [
    "pm10_cleaned_df = preprocess_pollution_data(pm10_data_df, sensor_column='sensor_id')\n",
    "pm25_cleaned_df = preprocess_pollution_data(pm25_data_df, sensor_column='sensor_id')\n",
    "no2_cleaned_df = preprocess_pollution_data(no2_data_df, sensor_column='sensor_id')"
   ]
  },
  {
   "cell_type": "code",
   "execution_count": 9,
   "metadata": {},
   "outputs": [],
   "source": [
    "pm10_cleaned_df.to_csv('pm10_data_cleaned.csv', index=False)\n",
    "pm25_cleaned_df.to_csv('pm2_5_data_cleaned.csv', index=False)\n",
    "no2_cleaned_df.to_csv('no2_data_cleaned.csv', index=False)"
   ]
  },
  {
   "cell_type": "code",
   "execution_count": 10,
   "metadata": {},
   "outputs": [
    {
     "name": "stdout",
     "output_type": "stream",
     "text": [
      "         date                             sensor_id  hour  type  value  year  \\\n",
      "0  2022-01-01  01440b05-255d-4764-be87-bdf135f32289     1  pm10     47  2022   \n",
      "1  2022-01-01  01440b05-255d-4764-be87-bdf135f32289     2  pm10     69  2022   \n",
      "2  2022-01-01  01440b05-255d-4764-be87-bdf135f32289     3  pm10    100  2022   \n",
      "3  2022-01-01  01440b05-255d-4764-be87-bdf135f32289     4  pm10     70  2022   \n",
      "4  2022-01-01  01440b05-255d-4764-be87-bdf135f32289     5  pm10     59  2022   \n",
      "\n",
      "   month  day  \n",
      "0      1    1  \n",
      "1      1    1  \n",
      "2      1    1  \n",
      "3      1    1  \n",
      "4      1    1  \n",
      "         date                             sensor_id  hour  type  value  year  \\\n",
      "0  2022-01-01  01440b05-255d-4764-be87-bdf135f32289     1  pm25     40  2022   \n",
      "1  2022-01-01  01440b05-255d-4764-be87-bdf135f32289     2  pm25     65  2022   \n",
      "2  2022-01-01  01440b05-255d-4764-be87-bdf135f32289     3  pm25     83  2022   \n",
      "3  2022-01-01  01440b05-255d-4764-be87-bdf135f32289     4  pm25     59  2022   \n",
      "4  2022-01-01  01440b05-255d-4764-be87-bdf135f32289     5  pm25     56  2022   \n",
      "\n",
      "   month  day  \n",
      "0      1    1  \n",
      "1      1    1  \n",
      "2      1    1  \n",
      "3      1    1  \n",
      "4      1    1  \n",
      "         date  sensor_id  hour type  value  year  month  day\n",
      "0  2022-01-01       1000     1  no2     23  2022      1    1\n",
      "1  2022-01-01       1000     2  no2     23  2022      1    1\n",
      "2  2022-01-01       1000     3  no2     21  2022      1    1\n",
      "3  2022-01-01       1000     4  no2     22  2022      1    1\n",
      "4  2022-01-01       1000     5  no2     21  2022      1    1\n"
     ]
    }
   ],
   "source": [
    "print(pm10_cleaned_df.head(5))\n",
    "print(pm25_cleaned_df.head(5))\n",
    "print(no2_cleaned_df.head(5))"
   ]
  },
  {
   "cell_type": "code",
   "execution_count": null,
   "metadata": {},
   "outputs": [],
   "source": []
  }
 ],
 "metadata": {
  "kernelspec": {
   "display_name": "Python 3",
   "language": "python",
   "name": "python3"
  },
  "language_info": {
   "codemirror_mode": {
    "name": "ipython",
    "version": 3
   },
   "file_extension": ".py",
   "mimetype": "text/x-python",
   "name": "python",
   "nbconvert_exporter": "python",
   "pygments_lexer": "ipython3",
   "version": "3.12.2"
  }
 },
 "nbformat": 4,
 "nbformat_minor": 2
}
