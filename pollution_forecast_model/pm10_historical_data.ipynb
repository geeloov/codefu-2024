{
 "cells": [
  {
   "cell_type": "code",
   "execution_count": 1,
   "metadata": {},
   "outputs": [],
   "source": [
    "import csv\n",
    "import datetime\n",
    "import pandas as pd\n",
    "from pulseeco.client import DataValueType\n",
    "from pulseeco.client import PulseEcoClient"
   ]
  },
  {
   "cell_type": "code",
   "execution_count": 2,
   "metadata": {},
   "outputs": [],
   "source": [
    "pulse_eco = PulseEcoClient(city_name=\"skopje\")"
   ]
  },
  {
   "cell_type": "code",
   "execution_count": 3,
   "metadata": {},
   "outputs": [],
   "source": [
    "all = pulse_eco.data_raw(from_=datetime.datetime(year=2022, month=1, day=1),\n",
    "                to=datetime.datetime(year=2024, month=11, day=24, hour=23, minute=59, second=59),\n",
    "                  type=DataValueType.PM10, sensor_id=None)"
   ]
  },
  {
   "cell_type": "code",
   "execution_count": 6,
   "metadata": {},
   "outputs": [],
   "source": [
    "csv_filename = \"Data/HistoricalPM10.csv\""
   ]
  },
  {
   "cell_type": "code",
   "execution_count": 7,
   "metadata": {},
   "outputs": [
    {
     "name": "stdout",
     "output_type": "stream",
     "text": [
      "Data has been written to Data/HistoricalPM10.csv\n"
     ]
    }
   ],
   "source": [
    "with open(csv_filename, mode='w', newline='', encoding='utf-8') as file:\n",
    "    writer = csv.writer(file)\n",
    "    \n",
    "    writer.writerow(['sensor_id', 'type', 'value', 'stamp'])\n",
    "    \n",
    "    for data_value in all:\n",
    "        sensor_id = data_value.sensor_id\n",
    "        type_ = data_value.type.value\n",
    "        value = data_value.value\n",
    "        stamp = data_value.stamp.strftime('%Y-%m-%d %H:%M:%S')\n",
    "        \n",
    "        writer.writerow([sensor_id, type_, value, stamp])\n",
    "\n",
    "print(f\"Data has been written to {csv_filename}\")"
   ]
  },
  {
   "cell_type": "code",
   "execution_count": null,
   "metadata": {},
   "outputs": [],
   "source": []
  }
 ],
 "metadata": {
  "kernelspec": {
   "display_name": "Python 3",
   "language": "python",
   "name": "python3"
  },
  "language_info": {
   "codemirror_mode": {
    "name": "ipython",
    "version": 3
   },
   "file_extension": ".py",
   "mimetype": "text/x-python",
   "name": "python",
   "nbconvert_exporter": "python",
   "pygments_lexer": "ipython3",
   "version": "3.12.2"
  }
 },
 "nbformat": 4,
 "nbformat_minor": 2
}
