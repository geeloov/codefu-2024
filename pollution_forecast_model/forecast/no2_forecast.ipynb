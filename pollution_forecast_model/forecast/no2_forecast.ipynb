{
 "cells": [
  {
   "cell_type": "code",
   "execution_count": 1,
   "metadata": {},
   "outputs": [],
   "source": [
    "import requests\n",
    "import pandas as pd\n",
    "from datetime import datetime, timedelta\n",
    "import joblib\n",
    "import requests\n",
    "import pandas as pd\n",
    "from datetime import datetime, timedelta\n",
    "import json"
   ]
  },
  {
   "cell_type": "code",
   "execution_count": 2,
   "metadata": {},
   "outputs": [],
   "source": [
    "# rf_model = joblib.load(\"../models/no2/random_forest_model.pkl\")\n",
    "xgb_model = joblib.load(\"../models/no2/xgboost_model.pkl\")"
   ]
  },
  {
   "cell_type": "code",
   "execution_count": 3,
   "metadata": {},
   "outputs": [],
   "source": [
    "x_scaler = joblib.load(\"../scalers/no2/x_scaler.pkl\")\n",
    "y_scaler = joblib.load(\"../scalers/no2/y_scaler.pkl\")"
   ]
  },
  {
   "cell_type": "code",
   "execution_count": 4,
   "metadata": {},
   "outputs": [],
   "source": [
    "latitude = 41.9981\n",
    "longitude = 21.4254\n",
    "\n",
    "url = f\"https://api.open-meteo.com/v1/forecast?latitude={latitude}&longitude={longitude}&hourly=temperature_2m,relative_humidity_2m,windspeed_10m\"\n",
    "response = requests.get(url)\n",
    "\n",
    "if response.status_code != 200:\n",
    "    raise Exception(\"Error fetching weather data\")\n",
    "\n",
    "data = response.json()\n",
    "\n",
    "hourly_data = {\n",
    "    \"time\": data[\"hourly\"][\"time\"],  \n",
    "    \"temperature\": data[\"hourly\"][\"temperature_2m\"],\n",
    "    \"humidity\": data[\"hourly\"][\"relative_humidity_2m\"],\n",
    "    \"wind_speed\": data[\"hourly\"][\"windspeed_10m\"]\n",
    "}\n",
    "\n",
    "df = pd.DataFrame(hourly_data)\n",
    "\n",
    "df[\"time\"] = pd.to_datetime(df[\"time\"])\n",
    "\n",
    "current_time = datetime.now()\n",
    "next_2_days = current_time + timedelta(days=2)\n",
    "\n",
    "df_next_2_days = df[(df[\"time\"] >= current_time) & (df[\"time\"] <= next_2_days)].copy()\n",
    "\n",
    "df_next_2_days.loc[:, \"hour\"] = df_next_2_days[\"time\"].dt.hour\n",
    "df_next_2_days.loc[:, \"year\"] = df_next_2_days[\"time\"].dt.year\n",
    "df_next_2_days.loc[:, \"month\"] = df_next_2_days[\"time\"].dt.month\n",
    "df_next_2_days.loc[:, \"day\"] = df_next_2_days[\"time\"].dt.day\n",
    "\n",
    "\n",
    "X = df_next_2_days[['hour', 'year', 'month', 'day', 'temperature', 'humidity', 'wind_speed']]\n",
    "X = x_scaler.transform(X)\n",
    "\n",
    "# no2_rf_predictions = rf_model.predict(X)\n",
    "no2_xgb_predictions = xgb_model.predict(X)\n"
   ]
  },
  {
   "cell_type": "code",
   "execution_count": 5,
   "metadata": {},
   "outputs": [],
   "source": [
    "no2_pred = y_scaler.inverse_transform(no2_xgb_predictions.reshape(-1, 1))"
   ]
  },
  {
   "cell_type": "code",
   "execution_count": 7,
   "metadata": {},
   "outputs": [
    {
     "data": {
      "text/plain": [
       "(48, 1)"
      ]
     },
     "execution_count": 7,
     "metadata": {},
     "output_type": "execute_result"
    }
   ],
   "source": [
    "no2_pred.shape"
   ]
  },
  {
   "cell_type": "code",
   "execution_count": 6,
   "metadata": {},
   "outputs": [
    {
     "name": "stdout",
     "output_type": "stream",
     "text": [
      "{\"no2_predictions\": [[22.582212448120117], [21.754093170166016], [18.005537033081055], [14.94070816040039], [14.450027465820312], [14.253520965576172], [15.050960540771484], [17.429523468017578], [17.37937355041504], [19.133617401123047], [18.939517974853516], [19.85582733154297], [22.923751831054688], [23.863712310791016], [25.369091033935547], [34.42451858520508], [34.50710678100586], [38.5930061340332], [40.02341842651367], [40.00715255737305], [37.61058044433594], [34.71978759765625], [30.902910232543945], [30.09906005859375], [30.06190299987793], [27.492822647094727], [24.937166213989258], [20.786422729492188], [20.21465301513672], [20.205121994018555], [20.13465118408203], [23.572956085205078], [26.003786087036133], [29.494369506835938], [30.870588302612305], [31.005640029907227], [30.484912872314453], [30.361190795898438], [32.370513916015625], [39.00113296508789], [43.882537841796875], [39.277442932128906], [41.2913932800293], [38.845699310302734], [38.91877365112305], [37.39723587036133], [34.830684661865234], [25.033849716186523]]}\n"
     ]
    }
   ],
   "source": [
    "print(json.dumps({\"no2_predictions\": no2_pred.tolist()}))"
   ]
  }
 ],
 "metadata": {
  "kernelspec": {
   "display_name": "Python 3",
   "language": "python",
   "name": "python3"
  },
  "language_info": {
   "codemirror_mode": {
    "name": "ipython",
    "version": 3
   },
   "file_extension": ".py",
   "mimetype": "text/x-python",
   "name": "python",
   "nbconvert_exporter": "python",
   "pygments_lexer": "ipython3",
   "version": "3.12.2"
  }
 },
 "nbformat": 4,
 "nbformat_minor": 2
}
