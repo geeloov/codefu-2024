{
 "cells": [
  {
   "cell_type": "code",
   "execution_count": 1,
   "metadata": {},
   "outputs": [],
   "source": [
    "import requests\n",
    "import pandas as pd\n",
    "from datetime import datetime, timedelta\n",
    "import joblib\n",
    "import requests\n",
    "import pandas as pd\n",
    "from datetime import datetime, timedelta\n",
    "import json"
   ]
  },
  {
   "cell_type": "code",
   "execution_count": null,
   "metadata": {},
   "outputs": [],
   "source": [
    "# rf_model = joblib.load(\"../models/pm25/random_forest_model.pkl\")\n",
    "xgb_model = joblib.load(\"../models/pm25/xgboost_model.pkl\")"
   ]
  },
  {
   "cell_type": "code",
   "execution_count": 3,
   "metadata": {},
   "outputs": [],
   "source": [
    "x_scaler = joblib.load(\"../scalers/pm25/x_scaler.pkl\")\n",
    "y_scaler = joblib.load(\"../scalers/pm25/y_scaler.pkl\")"
   ]
  },
  {
   "cell_type": "code",
   "execution_count": null,
   "metadata": {},
   "outputs": [],
   "source": [
    "latitude = 41.9981\n",
    "longitude = 21.4254\n",
    "\n",
    "url = f\"https://api.open-meteo.com/v1/forecast?latitude={latitude}&longitude={longitude}&hourly=temperature_2m,relative_humidity_2m,windspeed_10m\"\n",
    "response = requests.get(url)\n",
    "\n",
    "if response.status_code != 200:\n",
    "    raise Exception(\"Error fetching weather data\")\n",
    "\n",
    "data = response.json()\n",
    "\n",
    "hourly_data = {\n",
    "    \"time\": data[\"hourly\"][\"time\"],  \n",
    "    \"temperature\": data[\"hourly\"][\"temperature_2m\"],\n",
    "    \"humidity\": data[\"hourly\"][\"relative_humidity_2m\"],\n",
    "    \"wind_speed\": data[\"hourly\"][\"windspeed_10m\"]\n",
    "}\n",
    "\n",
    "df = pd.DataFrame(hourly_data)\n",
    "\n",
    "df[\"time\"] = pd.to_datetime(df[\"time\"])\n",
    "\n",
    "current_time = datetime.now()\n",
    "next_2_days = current_time + timedelta(days=2)\n",
    "\n",
    "df_next_2_days = df[(df[\"time\"] >= current_time) & (df[\"time\"] <= next_2_days)].copy()\n",
    "\n",
    "df_next_2_days.loc[:, \"hour\"] = df_next_2_days[\"time\"].dt.hour\n",
    "df_next_2_days.loc[:, \"year\"] = df_next_2_days[\"time\"].dt.year\n",
    "df_next_2_days.loc[:, \"month\"] = df_next_2_days[\"time\"].dt.month\n",
    "df_next_2_days.loc[:, \"day\"] = df_next_2_days[\"time\"].dt.day\n",
    "\n",
    "\n",
    "X = df_next_2_days[['hour', 'year', 'month', 'day', 'temperature', 'humidity', 'wind_speed']]\n",
    "X = x_scaler.transform(X)\n",
    "\n",
    "# pm2_5_rf_predictions = rf_model.predict(X)\n",
    "pm2_5_xgb_predictions = xgb_model.predict(X)\n"
   ]
  },
  {
   "cell_type": "code",
   "execution_count": 5,
   "metadata": {},
   "outputs": [],
   "source": [
    "pm2_5_pred = y_scaler.inverse_transform(pm2_5_xgb_predictions.reshape(-1, 1))"
   ]
  },
  {
   "cell_type": "code",
   "execution_count": null,
   "metadata": {},
   "outputs": [
    {
     "data": {
      "text/plain": [
       "array([[22.347288],\n",
       "       [25.205452],\n",
       "       [25.098516],\n",
       "       [26.296879],\n",
       "       [27.034092],\n",
       "       [27.45743 ],\n",
       "       [27.44353 ],\n",
       "       [20.967422],\n",
       "       [20.827843],\n",
       "       [20.759012],\n",
       "       [18.57541 ],\n",
       "       [17.151628],\n",
       "       [17.201746],\n",
       "       [21.133675],\n",
       "       [16.23869 ],\n",
       "       [16.428087],\n",
       "       [16.853802],\n",
       "       [14.236129],\n",
       "       [15.338324],\n",
       "       [16.52703 ],\n",
       "       [15.0702  ],\n",
       "       [17.077232],\n",
       "       [13.301709],\n",
       "       [17.322788],\n",
       "       [17.378426],\n",
       "       [19.530357],\n",
       "       [26.791779],\n",
       "       [41.336254],\n",
       "       [47.039204],\n",
       "       [42.525017],\n",
       "       [39.684162],\n",
       "       [32.71347 ],\n",
       "       [32.574184],\n",
       "       [35.31098 ],\n",
       "       [30.70112 ],\n",
       "       [28.188808],\n",
       "       [23.015959],\n",
       "       [29.413368],\n",
       "       [31.54876 ],\n",
       "       [31.63969 ],\n",
       "       [36.10969 ],\n",
       "       [33.861088],\n",
       "       [34.588165],\n",
       "       [29.347286],\n",
       "       [27.050568],\n",
       "       [28.551935],\n",
       "       [26.156816],\n",
       "       [21.307577]], dtype=float32)"
      ]
     },
     "execution_count": 6,
     "metadata": {},
     "output_type": "execute_result"
    }
   ],
   "source": [
    "print(json.dumps({\"pm2_5_predictions\": pm2_5_pred.tolist()}))"
   ]
  },
  {
   "cell_type": "code",
   "execution_count": null,
   "metadata": {},
   "outputs": [],
   "source": []
  }
 ],
 "metadata": {
  "kernelspec": {
   "display_name": "Python 3",
   "language": "python",
   "name": "python3"
  },
  "language_info": {
   "codemirror_mode": {
    "name": "ipython",
    "version": 3
   },
   "file_extension": ".py",
   "mimetype": "text/x-python",
   "name": "python",
   "nbconvert_exporter": "python",
   "pygments_lexer": "ipython3",
   "version": "3.12.2"
  }
 },
 "nbformat": 4,
 "nbformat_minor": 2
}
