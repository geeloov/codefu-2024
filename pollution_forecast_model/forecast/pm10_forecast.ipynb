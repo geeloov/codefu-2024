{
 "cells": [
  {
   "cell_type": "code",
   "execution_count": 1,
   "metadata": {},
   "outputs": [],
   "source": [
    "import requests\n",
    "import pandas as pd\n",
    "from datetime import datetime, timedelta\n",
    "import joblib\n",
    "import requests\n",
    "import pandas as pd\n",
    "from datetime import datetime, timedelta\n",
    "import json"
   ]
  },
  {
   "cell_type": "code",
   "execution_count": 2,
   "metadata": {},
   "outputs": [],
   "source": [
    "# rf_model = joblib.load(\"../models/pm10/random_forest_model.pkl\")\n",
    "xgb_model = joblib.load(\"../models/pm10/xgboost_model.pkl\")"
   ]
  },
  {
   "cell_type": "code",
   "execution_count": 3,
   "metadata": {},
   "outputs": [],
   "source": [
    "x_scaler = joblib.load(\"../scalers/pm10/x_scaler.pkl\")\n",
    "y_scaler = joblib.load(\"../scalers/pm10/y_scaler.pkl\")"
   ]
  },
  {
   "cell_type": "code",
   "execution_count": 4,
   "metadata": {},
   "outputs": [],
   "source": [
    "latitude = 41.9981\n",
    "longitude = 21.4254\n",
    "\n",
    "url = f\"https://api.open-meteo.com/v1/forecast?latitude={latitude}&longitude={longitude}&hourly=temperature_2m,relative_humidity_2m,windspeed_10m\"\n",
    "response = requests.get(url)\n",
    "\n",
    "if response.status_code != 200:\n",
    "    raise Exception(\"Error fetching weather data\")\n",
    "\n",
    "data = response.json()\n",
    "\n",
    "hourly_data = {\n",
    "    \"time\": data[\"hourly\"][\"time\"],  \n",
    "    \"temperature\": data[\"hourly\"][\"temperature_2m\"],\n",
    "    \"humidity\": data[\"hourly\"][\"relative_humidity_2m\"],\n",
    "    \"wind_speed\": data[\"hourly\"][\"windspeed_10m\"]\n",
    "}\n",
    "\n",
    "df = pd.DataFrame(hourly_data)\n",
    "\n",
    "df[\"time\"] = pd.to_datetime(df[\"time\"])\n",
    "\n",
    "current_time = datetime.now()\n",
    "next_2_days = current_time + timedelta(days=2)\n",
    "\n",
    "df_next_2_days = df[(df[\"time\"] >= current_time) & (df[\"time\"] <= next_2_days)].copy()\n",
    "\n",
    "df_next_2_days.loc[:, \"hour\"] = df_next_2_days[\"time\"].dt.hour\n",
    "df_next_2_days.loc[:, \"year\"] = df_next_2_days[\"time\"].dt.year\n",
    "df_next_2_days.loc[:, \"month\"] = df_next_2_days[\"time\"].dt.month\n",
    "df_next_2_days.loc[:, \"day\"] = df_next_2_days[\"time\"].dt.day\n",
    "\n",
    "\n",
    "X = df_next_2_days[['hour', 'year', 'month', 'day', 'temperature', 'humidity', 'wind_speed']]\n",
    "X = x_scaler.transform(X)\n",
    "\n",
    "# pm10_rf_predictions = rf_model.predict(X)\n",
    "pm10_xgb_predictions = xgb_model.predict(X)\n"
   ]
  },
  {
   "cell_type": "code",
   "execution_count": 5,
   "metadata": {},
   "outputs": [],
   "source": [
    "pm10_pred = y_scaler.inverse_transform(pm10_xgb_predictions.reshape(-1, 1))"
   ]
  },
  {
   "cell_type": "code",
   "execution_count": 6,
   "metadata": {},
   "outputs": [
    {
     "data": {
      "text/plain": [
       "(48, 1)"
      ]
     },
     "execution_count": 6,
     "metadata": {},
     "output_type": "execute_result"
    }
   ],
   "source": [
    "pm10_pred.shape"
   ]
  },
  {
   "cell_type": "code",
   "execution_count": 7,
   "metadata": {},
   "outputs": [
    {
     "name": "stdout",
     "output_type": "stream",
     "text": [
      "{\"pm10_predictions\": [[36.35308074951172], [31.365257263183594], [31.478349685668945], [26.59033203125], [27.141992568969727], [26.45966911315918], [27.545452117919922], [25.422441482543945], [18.89374351501465], [34.55598831176758], [31.48291015625], [17.986909866333008], [27.826417922973633], [25.411880493164062], [24.60009765625], [21.372589111328125], [40.188480377197266], [59.926902770996094], [68.9573974609375], [76.02774047851562], [75.09040069580078], [77.10186004638672], [76.59227752685547], [59.24382019042969], [72.63277435302734], [60.45661926269531], [54.8821907043457], [53.426151275634766], [45.99031448364258], [47.41965103149414], [53.72421646118164], [55.34318923950195], [51.671775817871094], [49.63964080810547], [50.656124114990234], [51.566932678222656], [52.28364181518555], [45.526737213134766], [42.11295700073242], [38.593467712402344], [41.75626754760742], [61.877079010009766], [60.86857223510742], [61.183048248291016], [73.88203430175781], [72.12399291992188], [48.089073181152344], [41.54958724975586]]}\n"
     ]
    }
   ],
   "source": [
    "print(json.dumps({\"pm10_predictions\": pm10_pred.tolist()}))"
   ]
  },
  {
   "cell_type": "code",
   "execution_count": null,
   "metadata": {},
   "outputs": [],
   "source": []
  }
 ],
 "metadata": {
  "kernelspec": {
   "display_name": "Python 3",
   "language": "python",
   "name": "python3"
  },
  "language_info": {
   "codemirror_mode": {
    "name": "ipython",
    "version": 3
   },
   "file_extension": ".py",
   "mimetype": "text/x-python",
   "name": "python",
   "nbconvert_exporter": "python",
   "pygments_lexer": "ipython3",
   "version": "3.12.2"
  }
 },
 "nbformat": 4,
 "nbformat_minor": 2
}
