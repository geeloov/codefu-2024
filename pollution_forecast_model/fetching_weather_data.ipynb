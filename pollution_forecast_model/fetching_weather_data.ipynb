{
 "cells": [
  {
   "cell_type": "code",
   "execution_count": 1,
   "metadata": {},
   "outputs": [],
   "source": [
    "import requests\n",
    "import pandas as pd"
   ]
  },
  {
   "cell_type": "code",
   "execution_count": 2,
   "metadata": {},
   "outputs": [],
   "source": [
    "url = \"https://archive-api.open-meteo.com/v1/era5\"\n",
    "params = {\n",
    "    \"latitude\": 41.9981,\n",
    "    \"longitude\": 21.4254,\n",
    "    \"start_date\": \"2022-01-01\",\n",
    "    \"end_date\": \"2024-11-25\",\n",
    "    \"hourly\": \"temperature_2m,relative_humidity_2m,wind_speed_10m\",\n",
    "}"
   ]
  },
  {
   "cell_type": "code",
   "execution_count": 4,
   "metadata": {},
   "outputs": [
    {
     "name": "stdout",
     "output_type": "stream",
     "text": [
      "Data saved successfully to 'weather_data_skopje_2022_to_2024.csv'\n"
     ]
    }
   ],
   "source": [
    "response = requests.get(url, params=params)\n",
    "\n",
    "if response.status_code == 200:\n",
    "    data = response.json()\n",
    "    \n",
    "    timestamps = data['hourly']['time']\n",
    "    temperature = data['hourly']['temperature_2m']\n",
    "    humidity = data['hourly']['relative_humidity_2m']\n",
    "    wind_speed = data['hourly']['wind_speed_10m']\n",
    "    \n",
    "    df = pd.DataFrame({\n",
    "        'stamp': timestamps,\n",
    "        'temperature': temperature,\n",
    "        'humidity': humidity,\n",
    "        'wind_speed': wind_speed\n",
    "    })\n",
    "    \n",
    "    df['stamp'] = pd.to_datetime(df['stamp'])\n",
    "    \n",
    "    df.to_csv('weather_data_skopje_2022_to_2024.csv', index=False)\n",
    "    \n",
    "    print(\"Data saved successfully to 'weather_data_skopje_2022_to_2024.csv'\")\n",
    "else:\n",
    "    print(f\"Failed to fetch data: {response.status_code}\")"
   ]
  },
  {
   "cell_type": "code",
   "execution_count": null,
   "metadata": {},
   "outputs": [],
   "source": []
  }
 ],
 "metadata": {
  "kernelspec": {
   "display_name": "Python 3",
   "language": "python",
   "name": "python3"
  },
  "language_info": {
   "codemirror_mode": {
    "name": "ipython",
    "version": 3
   },
   "file_extension": ".py",
   "mimetype": "text/x-python",
   "name": "python",
   "nbconvert_exporter": "python",
   "pygments_lexer": "ipython3",
   "version": "3.12.2"
  }
 },
 "nbformat": 4,
 "nbformat_minor": 2
}
