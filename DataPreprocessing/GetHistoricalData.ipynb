{
 "cells": [
  {
   "cell_type": "code",
   "execution_count": null,
   "metadata": {},
   "outputs": [
    {
     "data": {
      "text/plain": [
       "True"
      ]
     },
     "execution_count": 3,
     "metadata": {},
     "output_type": "execute_result"
    }
   ],
   "source": [
    "True==1   #   :'("
   ]
  },
  {
   "cell_type": "code",
   "execution_count": 1,
   "metadata": {},
   "outputs": [],
   "source": [
    "import csv\n",
    "import datetime\n",
    "import pandas as pd\n",
    "from pulseeco.client import DataValueType\n",
    "from pulseeco.client import PulseEcoClient"
   ]
  },
  {
   "cell_type": "code",
   "execution_count": null,
   "metadata": {},
   "outputs": [],
   "source": [
    "sensorsPM = pd.read_csv('FixedSensorsPM10.csv', sep=';')"
   ]
  },
  {
   "cell_type": "code",
   "execution_count": 4,
   "metadata": {},
   "outputs": [],
   "source": [
    "pulse_eco = PulseEcoClient(city_name=\"skopje\")"
   ]
  },
  {
   "cell_type": "code",
   "execution_count": 4,
   "metadata": {},
   "outputs": [],
   "source": [
    "all = pulse_eco.data_raw(from_=datetime.datetime(year=2022, month=1, day=1),\n",
    "                to=datetime.datetime(year=2024, month=11, day=24, hour=23, minute=59, second=59),\n",
    "                  type=DataValueType.PM25, sensor_id=None)"
   ]
  },
  {
   "cell_type": "code",
   "execution_count": 16,
   "metadata": {},
   "outputs": [],
   "source": [
    "csv_filename = \"HistoricalPM25.csv\""
   ]
  },
  {
   "cell_type": "code",
   "execution_count": null,
   "metadata": {},
   "outputs": [
    {
     "name": "stdout",
     "output_type": "stream",
     "text": [
      "Data has been written to HistoricalPM25.csv\n"
     ]
    },
    {
     "ename": "",
     "evalue": "",
     "output_type": "error",
     "traceback": [
      "\u001b[1;31mThe Kernel crashed while executing code in the current cell or a previous cell. \n",
      "\u001b[1;31mPlease review the code in the cell(s) to identify a possible cause of the failure. \n",
      "\u001b[1;31mClick <a href='https://aka.ms/vscodeJupyterKernelCrash'>here</a> for more info. \n",
      "\u001b[1;31mView Jupyter <a href='command:jupyter.viewOutput'>log</a> for further details."
     ]
    }
   ],
   "source": [
    "with open(csv_filename, mode='w', newline='', encoding='utf-8') as file:\n",
    "    writer = csv.writer(file)\n",
    "    \n",
    "    writer.writerow(['sensor_id', 'type', 'value', 'stamp'])\n",
    "    \n",
    "    for data_value in all:\n",
    "        sensor_id = data_value.sensor_id\n",
    "        type_ = data_value.type.value\n",
    "        value = data_value.value\n",
    "        stamp = data_value.stamp.strftime('%Y-%m-%d %H:%M:%S')\n",
    "        \n",
    "        writer.writerow([sensor_id, type_, value, stamp])\n",
    "\n",
    "print(f\"Data has been written to {csv_filename}\")"
   ]
  },
  {
   "cell_type": "code",
   "execution_count": 5,
   "metadata": {},
   "outputs": [],
   "source": [
    "allNO2 = pulse_eco.data_raw(from_=datetime.datetime(year=2022, month=1, day=1),\n",
    "                to=datetime.datetime(year=2024, month=11, day=24, hour=23, minute=59, second=59),\n",
    "                  type=DataValueType.NO2, sensor_id=None)"
   ]
  },
  {
   "cell_type": "code",
   "execution_count": 2,
   "metadata": {},
   "outputs": [],
   "source": [
    "csv_filename = \"HistoricalNO2.csv\""
   ]
  },
  {
   "cell_type": "code",
   "execution_count": 7,
   "metadata": {},
   "outputs": [
    {
     "name": "stdout",
     "output_type": "stream",
     "text": [
      "Data has been written to HistoricalNO2.csv\n"
     ]
    }
   ],
   "source": [
    "with open(csv_filename, mode='w', newline='', encoding='utf-8') as file:\n",
    "    writer = csv.writer(file)\n",
    "    \n",
    "    writer.writerow(['sensor_id', 'type', 'value', 'stamp'])\n",
    "    \n",
    "    for data_value in allNO2:\n",
    "        sensor_id = data_value.sensor_id\n",
    "        type_ = data_value.type.value\n",
    "        value = data_value.value\n",
    "        stamp = data_value.stamp.strftime('%Y-%m-%d %H:%M:%S')\n",
    "        \n",
    "        writer.writerow([sensor_id, type_, value, stamp])\n",
    "\n",
    "print(f\"Data has been written to {csv_filename}\")"
   ]
  },
  {
   "cell_type": "code",
   "execution_count": 4,
   "metadata": {},
   "outputs": [],
   "source": [
    "def getHistoricalData(sensorId):\n",
    "    data = pulse_eco.data_raw(\n",
    "                from_=datetime.datetime(year=2022, month=1, day=1),\n",
    "                to=datetime.datetime(year=2024, month=11, day=24, hour=23, minute=59, second=59),\n",
    "                type=DataValueType.PM10,\n",
    "                sensor_id=f\"{sensorId}\",\n",
    "            )\n",
    "    return data"
   ]
  },
  {
   "cell_type": "code",
   "execution_count": 5,
   "metadata": {},
   "outputs": [],
   "source": [
    "data = getHistoricalData(1001)"
   ]
  },
  {
   "cell_type": "code",
   "execution_count": 6,
   "metadata": {},
   "outputs": [
    {
     "data": {
      "text/plain": [
       "5863"
      ]
     },
     "execution_count": 6,
     "metadata": {},
     "output_type": "execute_result"
    }
   ],
   "source": [
    "len(data)"
   ]
  },
  {
   "cell_type": "code",
   "execution_count": 10,
   "metadata": {},
   "outputs": [
    {
     "data": {
      "text/plain": [
       "457314"
      ]
     },
     "execution_count": 10,
     "metadata": {},
     "output_type": "execute_result"
    }
   ],
   "source": [
    "5863*78"
   ]
  }
 ],
 "metadata": {
  "kernelspec": {
   "display_name": "Python 3",
   "language": "python",
   "name": "python3"
  },
  "language_info": {
   "codemirror_mode": {
    "name": "ipython",
    "version": 3
   },
   "file_extension": ".py",
   "mimetype": "text/x-python",
   "name": "python",
   "nbconvert_exporter": "python",
   "pygments_lexer": "ipython3",
   "version": "3.13.0"
  }
 },
 "nbformat": 4,
 "nbformat_minor": 2
}
