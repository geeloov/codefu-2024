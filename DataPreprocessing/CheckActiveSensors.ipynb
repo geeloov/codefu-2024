{
 "cells": [
  {
   "cell_type": "code",
   "execution_count": 2,
   "metadata": {},
   "outputs": [],
   "source": [
    "import csv\n",
    "import datetime\n",
    "import pandas as pd\n",
    "from pulseeco.client import DataValueType\n",
    "from pulseeco.client import PulseEcoClient"
   ]
  },
  {
   "cell_type": "code",
   "execution_count": 3,
   "metadata": {},
   "outputs": [],
   "source": [
    "sensors = pd.read_csv('../Data/sensors.csv')\n",
    "sensor_list = sensors['SensorId']"
   ]
  },
  {
   "cell_type": "code",
   "execution_count": 3,
   "metadata": {},
   "outputs": [],
   "source": [
    "sensors.fillna('No Comment', inplace=True)"
   ]
  },
  {
   "cell_type": "code",
   "execution_count": 4,
   "metadata": {},
   "outputs": [
    {
     "data": {
      "text/html": [
       "<div>\n",
       "<style scoped>\n",
       "    .dataframe tbody tr th:only-of-type {\n",
       "        vertical-align: middle;\n",
       "    }\n",
       "\n",
       "    .dataframe tbody tr th {\n",
       "        vertical-align: top;\n",
       "    }\n",
       "\n",
       "    .dataframe thead th {\n",
       "        text-align: right;\n",
       "    }\n",
       "</style>\n",
       "<table border=\"1\" class=\"dataframe\">\n",
       "  <thead>\n",
       "    <tr style=\"text-align: right;\">\n",
       "      <th></th>\n",
       "      <th>SensorId</th>\n",
       "      <th>Type</th>\n",
       "      <th>Position</th>\n",
       "      <th>Description</th>\n",
       "      <th>Comments</th>\n",
       "      <th>Status</th>\n",
       "    </tr>\n",
       "  </thead>\n",
       "  <tbody>\n",
       "    <tr>\n",
       "      <th>0</th>\n",
       "      <td>007f2b03-94e6-47b3-9e3e-44273354acd5</td>\n",
       "      <td>3</td>\n",
       "      <td>42.055622821657266,21.305010875644516</td>\n",
       "      <td>Kuchkovo</td>\n",
       "      <td>pulse.eco WiFi v2 sensor located at Kuchkovo</td>\n",
       "      <td>ACTIVE</td>\n",
       "    </tr>\n",
       "    <tr>\n",
       "      <th>1</th>\n",
       "      <td>01440b05-255d-4764-be87-bdf135f32289</td>\n",
       "      <td>6</td>\n",
       "      <td>42.027618975073544,21.38741970062256</td>\n",
       "      <td>Bardovci</td>\n",
       "      <td>TTGO v3 WiFi sensor at Bardovci.</td>\n",
       "      <td>ACTIVE</td>\n",
       "    </tr>\n",
       "    <tr>\n",
       "      <th>2</th>\n",
       "      <td>01cf1cec-bf2d-41b3-8cd5-e8bd720f01b4</td>\n",
       "      <td>3</td>\n",
       "      <td>41.993498532663594,21.44513139126384</td>\n",
       "      <td>Madjir Maalo</td>\n",
       "      <td>Madjir Maalo</td>\n",
       "      <td>ACTIVE</td>\n",
       "    </tr>\n",
       "  </tbody>\n",
       "</table>\n",
       "</div>"
      ],
      "text/plain": [
       "                               SensorId  Type  \\\n",
       "0  007f2b03-94e6-47b3-9e3e-44273354acd5     3   \n",
       "1  01440b05-255d-4764-be87-bdf135f32289     6   \n",
       "2  01cf1cec-bf2d-41b3-8cd5-e8bd720f01b4     3   \n",
       "\n",
       "                                Position   Description  \\\n",
       "0  42.055622821657266,21.305010875644516      Kuchkovo   \n",
       "1   42.027618975073544,21.38741970062256      Bardovci   \n",
       "2   41.993498532663594,21.44513139126384  Madjir Maalo   \n",
       "\n",
       "                                       Comments  Status  \n",
       "0  pulse.eco WiFi v2 sensor located at Kuchkovo  ACTIVE  \n",
       "1              TTGO v3 WiFi sensor at Bardovci.  ACTIVE  \n",
       "2                                  Madjir Maalo  ACTIVE  "
      ]
     },
     "execution_count": 4,
     "metadata": {},
     "output_type": "execute_result"
    }
   ],
   "source": [
    "sensors.head(3)"
   ]
  },
  {
   "cell_type": "code",
   "execution_count": 5,
   "metadata": {},
   "outputs": [],
   "source": [
    "pulse_eco = PulseEcoClient(city_name=\"skopje\")"
   ]
  },
  {
   "cell_type": "code",
   "execution_count": null,
   "metadata": {},
   "outputs": [],
   "source": [
    "def checkIfActivePM10(sensorId):\n",
    "    first = pulse_eco.data_raw(\n",
    "        from_=datetime.datetime(year=2024, month=11, day=22),\n",
    "        to=datetime.datetime(year=2024, month=11, day=24, hour=23, minute=59, second=59),\n",
    "        type=DataValueType.PM10,\n",
    "        sensor_id=f\"{sensorId}\",\n",
    "    )\n",
    "    if len(first)==0:\n",
    "        return False\n",
    "    else:\n",
    "        return True"
   ]
  },
  {
   "cell_type": "code",
   "execution_count": 7,
   "metadata": {},
   "outputs": [],
   "source": [
    "fixedSesnors = 'SensorId;Type;Lat;Lng;Description;Comments;Status\\n'"
   ]
  },
  {
   "cell_type": "code",
   "execution_count": 8,
   "metadata": {},
   "outputs": [],
   "source": [
    "for sensor in sensor_list:\n",
    "    current_sensor = sensors.loc[sensors['SensorId']==sensor]\n",
    "\n",
    "    fixedSesnors += str(current_sensor['SensorId'][current_sensor.index[0]]) + ';'\n",
    "    fixedSesnors += str(current_sensor['Type'][current_sensor.index[0]]) + ';'\n",
    "    fixedSesnors += str(current_sensor['Position'][current_sensor.index[0]]).split(',')[0] + ';'\n",
    "    fixedSesnors += str(current_sensor['Position'][current_sensor.index[0]]).split(',')[1] + ';'\n",
    "    fixedSesnors += str(current_sensor['Description'][current_sensor.index[0]]) + ';'\n",
    "    fixedSesnors += str(current_sensor['Comments'][current_sensor.index[0]]) + ';'\n",
    "\n",
    "    if checkIfActivePM10(sensor):\n",
    "        fixedSesnors += 'Active'\n",
    "    else:\n",
    "        fixedSesnors += 'Banned'\n",
    "        \n",
    "    fixedSesnors += '\\n'"
   ]
  },
  {
   "cell_type": "code",
   "execution_count": 9,
   "metadata": {},
   "outputs": [],
   "source": [
    "sensorListFinal = fixedSesnors.split('\\n')"
   ]
  },
  {
   "cell_type": "code",
   "execution_count": null,
   "metadata": {},
   "outputs": [],
   "source": [
    "with open(\"../Data/FixedSensorsPM10.csv\", \"w\", newline=\"\", encoding=\"utf-8\") as file:\n",
    "    writer = csv.writer(file)\n",
    "    for row in sensorListFinal:\n",
    "\n",
    "        writer.writerow(row.split(\",\"))"
   ]
  },
  {
   "cell_type": "code",
   "execution_count": null,
   "metadata": {},
   "outputs": [],
   "source": [
    "clean10 = pd.read_csv('../Data/FixedSensorsPM10.csv', sep=';')"
   ]
  },
  {
   "cell_type": "code",
   "execution_count": 12,
   "metadata": {},
   "outputs": [
    {
     "data": {
      "text/plain": [
       "Status\n",
       "Banned     96\n",
       "Active     79\n",
       "Banned\"     1\n",
       "Name: count, dtype: int64"
      ]
     },
     "execution_count": 12,
     "metadata": {},
     "output_type": "execute_result"
    }
   ],
   "source": [
    "clean10['Status'].value_counts()"
   ]
  },
  {
   "cell_type": "code",
   "execution_count": 13,
   "metadata": {},
   "outputs": [],
   "source": [
    "def checkIfActivePM25(sensorId):\n",
    "    first = pulse_eco.data_raw(\n",
    "        from_=datetime.datetime(year=2024, month=11, day=22),\n",
    "        to=datetime.datetime(year=2024, month=11, day=24, hour=23, minute=59, second=59),\n",
    "        type=DataValueType.PM25,\n",
    "        sensor_id=f\"{sensorId}\",\n",
    "    )\n",
    "    if len(first)==0:\n",
    "        return False\n",
    "    else:\n",
    "        return True"
   ]
  },
  {
   "cell_type": "code",
   "execution_count": 14,
   "metadata": {},
   "outputs": [],
   "source": [
    "fixedSesnors = 'SensorId;Type;Lat;Lng;Description;Comments;Status\\n'"
   ]
  },
  {
   "cell_type": "code",
   "execution_count": 15,
   "metadata": {},
   "outputs": [],
   "source": [
    "for sensor in sensor_list:\n",
    "    current_sensor = sensors.loc[sensors['SensorId']==sensor]\n",
    "\n",
    "    fixedSesnors += str(current_sensor['SensorId'][current_sensor.index[0]]) + ';'\n",
    "    fixedSesnors += str(current_sensor['Type'][current_sensor.index[0]]) + ';'\n",
    "    fixedSesnors += str(current_sensor['Position'][current_sensor.index[0]]).split(',')[0] + ';'\n",
    "    fixedSesnors += str(current_sensor['Position'][current_sensor.index[0]]).split(',')[1] + ';'\n",
    "    fixedSesnors += str(current_sensor['Description'][current_sensor.index[0]]) + ';'\n",
    "    fixedSesnors += str(current_sensor['Comments'][current_sensor.index[0]]) + ';'\n",
    "\n",
    "    if checkIfActivePM25(sensor):\n",
    "        fixedSesnors += 'Active'\n",
    "    else:\n",
    "        fixedSesnors += 'Banned'\n",
    "        \n",
    "    fixedSesnors += '\\n'"
   ]
  },
  {
   "cell_type": "code",
   "execution_count": 16,
   "metadata": {},
   "outputs": [],
   "source": [
    "sensorListFinal = fixedSesnors.split('\\n')"
   ]
  },
  {
   "cell_type": "code",
   "execution_count": null,
   "metadata": {},
   "outputs": [],
   "source": [
    "with open(\"../Data/FixedSensorsPM25.csv\", \"w\", newline=\"\", encoding=\"utf-8\") as file:\n",
    "    writer = csv.writer(file)\n",
    "    for row in sensorListFinal:\n",
    "        \n",
    "        writer.writerow(row.split(\",\"))"
   ]
  },
  {
   "cell_type": "code",
   "execution_count": null,
   "metadata": {},
   "outputs": [],
   "source": [
    "clean25 = pd.read_csv('../Data/FixedSensorsPM25.csv', sep=';')"
   ]
  },
  {
   "cell_type": "code",
   "execution_count": 26,
   "metadata": {},
   "outputs": [
    {
     "data": {
      "text/plain": [
       "Status\n",
       "Banned     97\n",
       "Active     78\n",
       "Banned\"     1\n",
       "Name: count, dtype: int64"
      ]
     },
     "execution_count": 26,
     "metadata": {},
     "output_type": "execute_result"
    }
   ],
   "source": [
    "clean25['Status'].value_counts()"
   ]
  },
  {
   "cell_type": "code",
   "execution_count": 19,
   "metadata": {},
   "outputs": [],
   "source": [
    "def checkIfActiveNO2(sensorId):\n",
    "    first = pulse_eco.data_raw(\n",
    "        from_=datetime.datetime(year=2024, month=11, day=22),\n",
    "        to=datetime.datetime(year=2024, month=11, day=24, hour=23, minute=59, second=59),\n",
    "        type=DataValueType.NO2,\n",
    "        sensor_id=f\"{sensorId}\",\n",
    "    )\n",
    "    if len(first)==0:\n",
    "        return False\n",
    "    else:\n",
    "        return True"
   ]
  },
  {
   "cell_type": "code",
   "execution_count": 20,
   "metadata": {},
   "outputs": [],
   "source": [
    "fixedSesnors = 'SensorId;Type;Lat;Lng;Description;Comments;Status\\n'"
   ]
  },
  {
   "cell_type": "code",
   "execution_count": 21,
   "metadata": {},
   "outputs": [],
   "source": [
    "for sensor in sensor_list:\n",
    "    current_sensor = sensors.loc[sensors['SensorId']==sensor]\n",
    "\n",
    "    fixedSesnors += str(current_sensor['SensorId'][current_sensor.index[0]]) + ';'\n",
    "    fixedSesnors += str(current_sensor['Type'][current_sensor.index[0]]) + ';'\n",
    "    fixedSesnors += str(current_sensor['Position'][current_sensor.index[0]]).split(',')[0] + ';'\n",
    "    fixedSesnors += str(current_sensor['Position'][current_sensor.index[0]]).split(',')[1] + ';'\n",
    "    fixedSesnors += str(current_sensor['Description'][current_sensor.index[0]]) + ';'\n",
    "    fixedSesnors += str(current_sensor['Comments'][current_sensor.index[0]]) + ';'\n",
    "\n",
    "    if checkIfActiveNO2(sensor):\n",
    "        fixedSesnors += 'Active'\n",
    "    else:\n",
    "        fixedSesnors += 'Banned'\n",
    "        \n",
    "    fixedSesnors += '\\n'"
   ]
  },
  {
   "cell_type": "code",
   "execution_count": 22,
   "metadata": {},
   "outputs": [],
   "source": [
    "sensorListFinal = fixedSesnors.split('\\n')"
   ]
  },
  {
   "cell_type": "code",
   "execution_count": null,
   "metadata": {},
   "outputs": [],
   "source": [
    "with open(\"../Data/FixedSensorsNO2.csv\", \"w\", newline=\"\", encoding=\"utf-8\") as file:\n",
    "    writer = csv.writer(file)\n",
    "    for row in sensorListFinal:\n",
    "        \n",
    "        writer.writerow(row.split(\",\"))"
   ]
  },
  {
   "cell_type": "code",
   "execution_count": null,
   "metadata": {},
   "outputs": [],
   "source": [
    "cleanno2 = pd.read_csv('../Data/FixedSensorsNO2.csv', sep=';')"
   ]
  },
  {
   "cell_type": "code",
   "execution_count": 25,
   "metadata": {},
   "outputs": [
    {
     "data": {
      "text/plain": [
       "Status\n",
       "Banned     169\n",
       "Active       6\n",
       "Banned\"      1\n",
       "Name: count, dtype: int64"
      ]
     },
     "execution_count": 25,
     "metadata": {},
     "output_type": "execute_result"
    }
   ],
   "source": [
    "cleanno2['Status'].value_counts()"
   ]
  }
 ],
 "metadata": {
  "kernelspec": {
   "display_name": "Python 3",
   "language": "python",
   "name": "python3"
  },
  "language_info": {
   "codemirror_mode": {
    "name": "ipython",
    "version": 3
   },
   "file_extension": ".py",
   "mimetype": "text/x-python",
   "name": "python",
   "nbconvert_exporter": "python",
   "pygments_lexer": "ipython3",
   "version": "3.13.0"
  }
 },
 "nbformat": 4,
 "nbformat_minor": 2
}
